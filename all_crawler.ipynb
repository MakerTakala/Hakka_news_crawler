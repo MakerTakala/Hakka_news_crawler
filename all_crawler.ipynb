{
 "cells": [
  {
   "cell_type": "code",
   "execution_count": 4,
   "metadata": {},
   "outputs": [],
   "source": [
    "import pandas as pd\n",
    "from pytube import YouTube, Playlist\n",
    "import pydub\n",
    "import os\n",
    "import re\n",
    "import glob\n",
    "\n",
    "os.environ[\"IMAGEIO_FFMPEG_EXE\"] = \"/opt/homebrew/bin/ffmpeg\"\n",
    "\n",
    "import moviepy.editor as mp\n",
    "\n",
    "target_dir = \"./all_data\""
   ]
  },
  {
   "cell_type": "code",
   "execution_count": 5,
   "metadata": {},
   "outputs": [],
   "source": [
    "def mp4_to_mp3(in_path, out_path):\n",
    "    audio = mp.AudioFileClip(in_path)\n",
    "    audio.write_audiofile(out_path)"
   ]
  },
  {
   "cell_type": "code",
   "execution_count": 6,
   "metadata": {},
   "outputs": [
    {
     "name": "stdout",
     "output_type": "stream",
     "text": [
      "MoviePy - Writing audio in ./all_data/mp3/0.mp3\n"
     ]
    },
    {
     "name": "stderr",
     "output_type": "stream",
     "text": [
      "                                                                      \r"
     ]
    },
    {
     "name": "stdout",
     "output_type": "stream",
     "text": [
      "MoviePy - Done.\n",
      "0 success\n",
      "MoviePy - Writing audio in ./all_data/mp3/1.mp3\n"
     ]
    },
    {
     "name": "stderr",
     "output_type": "stream",
     "text": [
      "                                                         "
     ]
    },
    {
     "name": "stdout",
     "output_type": "stream",
     "text": [
      "1 cant convert\n"
     ]
    },
    {
     "name": "stderr",
     "output_type": "stream",
     "text": [
      "\r"
     ]
    },
    {
     "name": "stdout",
     "output_type": "stream",
     "text": [
      "MoviePy - Writing audio in ./all_data/mp3/1.mp3\n"
     ]
    },
    {
     "name": "stderr",
     "output_type": "stream",
     "text": [
      "                                                                      \r"
     ]
    },
    {
     "name": "stdout",
     "output_type": "stream",
     "text": [
      "MoviePy - Done.\n",
      "1 success\n",
      "MoviePy - Writing audio in ./all_data/mp3/2.mp3\n"
     ]
    },
    {
     "name": "stderr",
     "output_type": "stream",
     "text": [
      "                                                                      \r"
     ]
    },
    {
     "name": "stdout",
     "output_type": "stream",
     "text": [
      "MoviePy - Done.\n",
      "2 success\n"
     ]
    }
   ],
   "source": [
    "\n",
    "\n",
    "if not os.path.isdir(target_dir + \"/mp4\"):\n",
    "    os.makedirs(target_dir + \"/mp4\")\n",
    "if not os.path.isdir(target_dir + \"/mp3\"):\n",
    "    os.makedirs(target_dir + \"/mp3\")\n",
    "\n",
    "\n",
    "\n",
    "traincsv = open(target_dir + \"/train.csv\", \"w\")\n",
    "traincsv.write(\"\\\"file\\\",\\\"Description\\\"\\n\")\n",
    "failfile = open(target_dir + \"/fail.txt\", \"w\")\n",
    "list_url = \"https://www.youtube.com/playlist?list=PL96kIIcXJpMtmsQGlsNVqWduASZnh4HnE\"\n",
    "playlist = Playlist(list_url)\n",
    "\n",
    "idx = 0\n",
    "for video in playlist.videos:\n",
    "\n",
    "    \n",
    "    mp4_path = target_dir + \"/mp4/\" + str(idx) + \".mp4\"\n",
    "    mp3_path = target_dir + \"/mp3/\" + str(idx) + \".mp3\"\n",
    "\n",
    "    if not os.path.isfile(mp4_path):\n",
    "        try:\n",
    "            video.streams.filter().get_highest_resolution().download(filename = str(idx) + \".mp4\", output_path=target_dir + \"/mp4\")\n",
    "        except:\n",
    "            print(idx, video.title, \"cant downlaod\")\n",
    "            failfile.write(str(idx) + \". \" + \"cant downlaod.\\n\")\n",
    "            continue\n",
    "    \n",
    "    if not os.path.isfile(mp3_path):\n",
    "        try:\n",
    "            mp4_to_mp3(mp4_path, mp3_path)\n",
    "        except:\n",
    "            print(idx, \"cant convert\")\n",
    "            failfile.write(str(idx) + \". \" + \"cant convert.\\n\")\n",
    "            continue\n",
    "\n",
    "    print(idx, \"success\")\n",
    "    idx += 1\n",
    "\n",
    "traincsv.close()\n",
    "failfile.close()\n",
    "    \n",
    "\n"
   ]
  }
 ],
 "metadata": {
  "kernelspec": {
   "display_name": "venv",
   "language": "python",
   "name": "python3"
  },
  "language_info": {
   "codemirror_mode": {
    "name": "ipython",
    "version": 3
   },
   "file_extension": ".py",
   "mimetype": "text/x-python",
   "name": "python",
   "nbconvert_exporter": "python",
   "pygments_lexer": "ipython3",
   "version": "3.10.11"
  },
  "orig_nbformat": 4
 },
 "nbformat": 4,
 "nbformat_minor": 2
}
