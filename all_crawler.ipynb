{
 "cells": [
  {
   "cell_type": "code",
   "execution_count": 1,
   "metadata": {},
   "outputs": [],
   "source": [
    "import pandas as pd\n",
    "from pytube import YouTube, Playlist\n",
    "import pydub\n",
    "import os\n",
    "import re\n",
    "import glob\n",
    "\n",
    "os.environ[\"IMAGEIO_FFMPEG_EXE\"] = \"/opt/homebrew/bin/ffmpeg\"\n",
    "\n",
    "import moviepy.editor as mp\n",
    "\n",
    "target_dir = \"./all_data\""
   ]
  },
  {
   "cell_type": "code",
   "execution_count": 2,
   "metadata": {},
   "outputs": [],
   "source": [
    "def mp4_to_mp3(in_path, out_path):\n",
    "    audio = mp.AudioFileClip(in_path)\n",
    "    audio.write_audiofile(out_path)"
   ]
  },
  {
   "cell_type": "code",
   "execution_count": 3,
   "metadata": {},
   "outputs": [
    {
     "name": "stdout",
     "output_type": "stream",
     "text": [
      "0 success\n",
      "1 success\n",
      "2 success\n",
      "MoviePy - Writing audio in ./all_data/mp3/3.mp3\n"
     ]
    },
    {
     "name": "stderr",
     "output_type": "stream",
     "text": [
      "                                                                      \r"
     ]
    },
    {
     "name": "stdout",
     "output_type": "stream",
     "text": [
      "MoviePy - Done.\n",
      "3 success\n",
      "MoviePy - Writing audio in ./all_data/mp3/4.mp3\n"
     ]
    },
    {
     "name": "stderr",
     "output_type": "stream",
     "text": [
      "                                                                      \r"
     ]
    },
    {
     "name": "stdout",
     "output_type": "stream",
     "text": [
      "MoviePy - Done.\n",
      "4 success\n",
      "MoviePy - Writing audio in ./all_data/mp3/5.mp3\n"
     ]
    },
    {
     "name": "stderr",
     "output_type": "stream",
     "text": [
      "                                                                      \r"
     ]
    },
    {
     "name": "stdout",
     "output_type": "stream",
     "text": [
      "MoviePy - Done.\n",
      "5 success\n",
      "MoviePy - Writing audio in ./all_data/mp3/6.mp3\n"
     ]
    },
    {
     "name": "stderr",
     "output_type": "stream",
     "text": [
      "                                                                      \r"
     ]
    },
    {
     "name": "stdout",
     "output_type": "stream",
     "text": [
      "MoviePy - Done.\n",
      "6 success\n",
      "7 1991年佛光山進駐南非 弘揚佛法培力青年【客家新聞20230721】 cant downlaod\n",
      "7 約翰尼斯堡游泳培訓館 吸引臺僑攜子學習【客家新聞20230721】 cant downlaod\n",
      "MoviePy - Writing audio in ./all_data/mp3/7.mp3\n"
     ]
    },
    {
     "name": "stderr",
     "output_type": "stream",
     "text": [
      "                                                                      \r"
     ]
    },
    {
     "name": "stdout",
     "output_type": "stream",
     "text": [
      "MoviePy - Done.\n",
      "7 success\n",
      "MoviePy - Writing audio in ./all_data/mp3/8.mp3\n"
     ]
    },
    {
     "name": "stderr",
     "output_type": "stream",
     "text": [
      "chunk:   0%|          | 0/2908 [00:00<?, ?it/s, now=None]"
     ]
    },
    {
     "name": "stderr",
     "output_type": "stream",
     "text": [
      "chunk:  61%|██████    | 1764/2908 [00:00<00:00, 2887.82it/s, now=None]"
     ]
    }
   ],
   "source": [
    "\n",
    "\n",
    "if not os.path.isdir(target_dir + \"/mp4\"):\n",
    "    os.makedirs(target_dir + \"/mp4\")\n",
    "if not os.path.isdir(target_dir + \"/mp3\"):\n",
    "    os.makedirs(target_dir + \"/mp3\")\n",
    "\n",
    "\n",
    "\n",
    "traincsv = open(target_dir + \"/train.csv\", \"w\")\n",
    "traincsv.write(\"\\\"file\\\",\\\"Description\\\"\\n\")\n",
    "failfile = open(target_dir + \"/fail.txt\", \"w\")\n",
    "list_url = \"https://www.youtube.com/playlist?list=PL96kIIcXJpMtmsQGlsNVqWduASZnh4HnE\"\n",
    "playlist = Playlist(list_url)\n",
    "\n",
    "idx = 0\n",
    "for video in playlist.videos:\n",
    "\n",
    "    \n",
    "    mp4_path = target_dir + \"/mp4/\" + str(idx) + \".mp4\"\n",
    "    mp3_path = target_dir + \"/mp3/\" + str(idx) + \".mp3\"\n",
    "\n",
    "    if not os.path.isfile(mp4_path):\n",
    "        try:\n",
    "            video.streams.filter().get_highest_resolution().download(filename = str(idx) + \".mp4\", output_path=target_dir + \"/mp4\")\n",
    "        except:\n",
    "            print(idx, video.title, \"cant downlaod\")\n",
    "            failfile.write(str(idx) + \". \" + \"cant downlaod.\\n\")\n",
    "            continue\n",
    "    \n",
    "    if not os.path.isfile(mp3_path):\n",
    "        try:\n",
    "            mp4_to_mp3(mp4_path, mp3_path)\n",
    "        except:\n",
    "            print(idx, \"cant convert\")\n",
    "            failfile.write(str(idx) + \". \" + \"cant convert.\\n\")\n",
    "            continue\n",
    "\n",
    "    print(idx, \"success\")\n",
    "    idx += 1\n",
    "\n",
    "traincsv.close()\n",
    "failfile.close()\n",
    "    \n",
    "\n"
   ]
  }
 ],
 "metadata": {
  "kernelspec": {
   "display_name": "venv",
   "language": "python",
   "name": "python3"
  },
  "language_info": {
   "codemirror_mode": {
    "name": "ipython",
    "version": 3
   },
   "file_extension": ".py",
   "mimetype": "text/x-python",
   "name": "python",
   "nbconvert_exporter": "python",
   "pygments_lexer": "ipython3",
   "version": "3.10.11"
  },
  "orig_nbformat": 4
 },
 "nbformat": 4,
 "nbformat_minor": 2
}
