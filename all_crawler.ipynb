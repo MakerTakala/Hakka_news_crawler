{
 "cells": [
  {
   "cell_type": "code",
   "execution_count": 1,
   "metadata": {},
   "outputs": [],
   "source": [
    "import pandas as pd\n",
    "from pytube import YouTube, Playlist\n",
    "import pydub\n",
    "import os\n",
    "import re\n",
    "import glob\n",
    "\n",
    "os.environ[\"IMAGEIO_FFMPEG_EXE\"] = \"/opt/homebrew/bin/ffmpeg\"\n",
    "\n",
    "import moviepy.editor as mpeditor\n",
    "import moviepy.video.fx.all as mpfx\n",
    "\n",
    "target_dir = \"./all_data\""
   ]
  },
  {
   "cell_type": "code",
   "execution_count": 2,
   "metadata": {},
   "outputs": [
    {
     "name": "stdout",
     "output_type": "stream",
     "text": [
      "0 success\n"
     ]
    }
   ],
   "source": [
    "if not os.path.isdir(target_dir + \"/mp4\"):\n",
    "    os.makedirs(target_dir + \"/mp4\")\n",
    "if not os.path.isdir(target_dir + \"/wav\"):\n",
    "    os.makedirs(target_dir + \"/wav\")\n",
    "\n",
    "\n",
    "\n",
    "traincsv = open(target_dir + \"/train.csv\", \"w\")\n",
    "traincsv.write(\"\\\"file\\\",\\\"Description\\\"\\n\")\n",
    "failfile = open(target_dir + \"/fail.txt\", \"w\")\n",
    "list_url = \"https://www.youtube.com/playlist?list=PL96kIIcXJpMtmsQGlsNVqWduASZnh4HnE\"\n",
    "playlist = Playlist(list_url)\n",
    "\n",
    "idx = 0\n",
    "for video in playlist.videos:\n",
    "\n",
    "    if idx == 1:\n",
    "        break\n",
    "\n",
    "    tmp_vidoe = target_dir + \"/mp4/tmp\" + str(idx) + \".mp4\"\n",
    "    mp4_path = target_dir + \"/mp4/\" + str(idx) + \".mp4\"\n",
    "    wav_path = target_dir + \"/wav/\" + str(idx) + \".wav\"\n",
    "\n",
    "    if not os.path.isfile(mp4_path):\n",
    "        try:\n",
    "            video.streams.filter().get_highest_resolution().download(filename=\"tmp\" + str(idx) + \".mp4\", output_path=target_dir + \"/mp4\")\n",
    "            mp4 = mpeditor.VideoFileClip(tmp_vidoe)\n",
    "            mp4 = mpfx.crop(mp4, x1=200, y1=565, width=900, height=50)\n",
    "            mp4.write_videofile(filename=mp4_path, fps=10, logger=None)\n",
    "            os.remove(tmp_vidoe)\n",
    "\n",
    "        except:\n",
    "            print(idx, video.title, \"cant downlaod\")\n",
    "            failfile.write(str(idx) + \". \" + \"cant downlaod.\\n\")\n",
    "            continue\n",
    "    \n",
    "    \n",
    "\n",
    "    if not os.path.isfile(wav_path):\n",
    "        try:\n",
    "            audio = mpeditor.AudioFileClip(mp4_path, logger=None)\n",
    "            audio.write_audiofile(filename=wav_path, fps=16000, nbytes=2, logger=None)\n",
    "            sound = pydub.AudioSegment.from_wav(wav_path)\n",
    "            sound = sound.set_channels(1)\n",
    "            sound.export(wav_path, format=\"wav\")\n",
    "        except:\n",
    "            print(idx, \"cant convert\")\n",
    "            failfile.write(str(idx) + \". \" + \"cant convert.\\n\")\n",
    "            continue\n",
    "\n",
    "    print(idx, \"success\")\n",
    "    idx += 1\n",
    "\n",
    "traincsv.close()\n",
    "failfile.close()\n",
    "    \n",
    "\n"
   ]
  }
 ],
 "metadata": {
  "kernelspec": {
   "display_name": "venv",
   "language": "python",
   "name": "python3"
  },
  "language_info": {
   "codemirror_mode": {
    "name": "ipython",
    "version": 3
   },
   "file_extension": ".py",
   "mimetype": "text/x-python",
   "name": "python",
   "nbconvert_exporter": "python",
   "pygments_lexer": "ipython3",
   "version": "3.10.11"
  },
  "orig_nbformat": 4
 },
 "nbformat": 4,
 "nbformat_minor": 2
}
