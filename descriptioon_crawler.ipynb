{
 "cells": [
  {
   "cell_type": "code",
   "execution_count": 1,
   "metadata": {},
   "outputs": [],
   "source": [
    "import pandas as pd\n",
    "from pytube import YouTube\n",
    "import pydub\n",
    "import os\n",
    "import re\n",
    "import glob\n",
    "\n",
    "os.environ[\"IMAGEIO_FFMPEG_EXE\"] = \"/opt/homebrew/bin/ffmpeg\"\n",
    "\n",
    "import moviepy.editor as mp\n",
    "\n"
   ]
  },
  {
   "cell_type": "code",
   "execution_count": 2,
   "metadata": {},
   "outputs": [],
   "source": [
    "target_dir = \"./data\"\n",
    "\n",
    "data = pd.read_csv(target_dir + \"/url.csv\")"
   ]
  },
  {
   "cell_type": "code",
   "execution_count": 3,
   "metadata": {},
   "outputs": [],
   "source": [
    "def download_video(tag, path):\n",
    "    url = \"https://www.youtube.com/watch?v=\" + tag\n",
    "    yt = YouTube(url, use_oauth=True, allow_oauth_cache=True)\n",
    "    yt.streams.filter(file_extension='mp4').first().download(path)\n",
    "\n",
    "    video = yt.streams.filter(only_audio=True).first()\n",
    "    video.download(output_path=path)\n",
    "\n",
    "\n",
    "def rename_file(name, i):\n",
    "    os.rename(\"./data/mp4/\" + name + \".mp4\", \"./data/mp4/\" + str(i) + \".mp4\")\n",
    "\n",
    "\n",
    "def mp4_to_mp3(in_path, out_path):\n",
    "    audio = mp.AudioFileClip(in_path)\n",
    "    audio.write_audiofile(out_path)\n",
    "\n",
    "\n",
    "def cut_descriptrion(in_path, out_path):\n",
    "    mp3 = pydub.AudioSegment.from_mp3(in_path)\n",
    "\n",
    "    slice = pydub.silence.split_on_silence(mp3, silence_thresh = -38, min_silence_len = 800, keep_silence = 1000)\n",
    "\n",
    "    for i in range(len(slice)):\n",
    "        if slice[0].duration_seconds <= 15 and slice[0].duration_seconds + slice[i + 1].duration_seconds < 60:\n",
    "            slice[0] = slice[0].append(slice[i + 1])\n",
    "\n",
    "    if slice[0].duration_seconds <= 15 or 60 <= slice[0].duration_seconds:\n",
    "        raise Exception(\"cut fail\")\n",
    "\n",
    "    slice[0].export(out_path, format=\"mp3\")"
   ]
  },
  {
   "cell_type": "code",
   "execution_count": 4,
   "metadata": {},
   "outputs": [
    {
     "name": "stdout",
     "output_type": "stream",
     "text": [
      "1570 赤科山聯外道路經常損毀 地方提升級縣道【客家新聞20230101】 success\n",
      "MoviePy - Writing audio in ./data/mp3/1571.mp3\n"
     ]
    },
    {
     "name": "stderr",
     "output_type": "stream",
     "text": [
      "                                                                      \r"
     ]
    },
    {
     "name": "stdout",
     "output_type": "stream",
     "text": [
      "MoviePy - Done.\n",
      "1571 竹縣元旦升旗 反生命園區自救會遞陳情書【客家新聞20230101】 success\n",
      "MoviePy - Writing audio in ./data/mp3/1572.mp3\n"
     ]
    },
    {
     "name": "stderr",
     "output_type": "stream",
     "text": [
      "                                                                      \r"
     ]
    },
    {
     "name": "stdout",
     "output_type": "stream",
     "text": [
      "MoviePy - Done.\n",
      "1572 剪黏泥塑技術保存者徐明河辭世 各界緬懷【客家新聞20230719】 success\n",
      "MoviePy - Writing audio in ./data/mp3/1573.mp3\n"
     ]
    },
    {
     "name": "stderr",
     "output_type": "stream",
     "text": [
      "                                                                      \r"
     ]
    },
    {
     "name": "stdout",
     "output_type": "stream",
     "text": [
      "MoviePy - Done.\n",
      "1573 員林7成客底 客委會補助多元課程要尋根【客家新聞20230719】 success\n",
      "MoviePy - Writing audio in ./data/mp3/1574.mp3\n"
     ]
    },
    {
     "name": "stderr",
     "output_type": "stream",
     "text": [
      "                                                                      \r"
     ]
    },
    {
     "name": "stdout",
     "output_type": "stream",
     "text": [
      "MoviePy - Done.\n",
      "1574 漫遊香草銅鑼 社區推敬老護幼體驗活動【客家新聞20230719】 success\n",
      "MoviePy - Writing audio in ./data/mp3/1575.mp3\n"
     ]
    },
    {
     "name": "stderr",
     "output_type": "stream",
     "text": [
      "                                                                      \r"
     ]
    },
    {
     "name": "stdout",
     "output_type": "stream",
     "text": [
      "MoviePy - Done.\n",
      "1575 新園鄉圖書新館動土 擴大面積.明年底完工【客家新聞20230719】 success\n",
      "MoviePy - Writing audio in ./data/mp3/1576.mp3\n"
     ]
    },
    {
     "name": "stderr",
     "output_type": "stream",
     "text": [
      "                                                                      \r"
     ]
    },
    {
     "name": "stdout",
     "output_type": "stream",
     "text": [
      "MoviePy - Done.\n",
      "1576 竹縣蓮花推廣協會前理事長 種大王蓮20年【客家新聞20230719】 success\n",
      "MoviePy - Writing audio in ./data/mp3/1577.mp3\n"
     ]
    },
    {
     "name": "stderr",
     "output_type": "stream",
     "text": [
      "                                                                      \r"
     ]
    },
    {
     "name": "stdout",
     "output_type": "stream",
     "text": [
      "MoviePy - Done.\n",
      "1577 國姓咖啡節移師綠雕園區 盼帶動地方發展【客家新聞20230719】 success\n",
      "MoviePy - Writing audio in ./data/mp3/1578.mp3\n"
     ]
    },
    {
     "name": "stderr",
     "output_type": "stream",
     "text": [
      "                                                                      \r"
     ]
    },
    {
     "name": "stdout",
     "output_type": "stream",
     "text": [
      "MoviePy - Done.\n",
      "1578 慶祝觀光工廠推行20週年 推特色嘉年華會【客家新聞20230719】 success\n",
      "MoviePy - Writing audio in ./data/mp3/1579.mp3\n"
     ]
    },
    {
     "name": "stderr",
     "output_type": "stream",
     "text": [
      "                                                                      \r"
     ]
    },
    {
     "name": "stdout",
     "output_type": "stream",
     "text": [
      "MoviePy - Done.\n",
      "1579 後龍聚善堂吉日啟用 頭份爭取濱江街拓寬【客家新聞20230719】 success\n",
      "1580 南非工業化程度高 深陷能源危機缺電嚴重【客家新聞20230720】 cant downlaod\n",
      "MoviePy - Writing audio in ./data/mp3/1581.mp3\n"
     ]
    },
    {
     "name": "stderr",
     "output_type": "stream",
     "text": [
      "                                                                      \r"
     ]
    },
    {
     "name": "stdout",
     "output_type": "stream",
     "text": [
      "MoviePy - Done.\n",
      "1581 職場性平調查 僅1成5企業具性別友善政策【客家新聞20230720】 success\n",
      "MoviePy - Writing audio in ./data/mp3/1582.mp3\n"
     ]
    },
    {
     "name": "stderr",
     "output_type": "stream",
     "text": [
      "                                                                      \r"
     ]
    },
    {
     "name": "stdout",
     "output_type": "stream",
     "text": [
      "MoviePy - Done.\n",
      "1582 三義樂齡長者彩繪牆 一筆一畫在地美景【客家新聞20230720】 success\n",
      "MoviePy - Writing audio in ./data/mp3/1583.mp3\n"
     ]
    },
    {
     "name": "stderr",
     "output_type": "stream",
     "text": [
      "                                                                      \r"
     ]
    },
    {
     "name": "stdout",
     "output_type": "stream",
     "text": [
      "MoviePy - Done.\n",
      "1583 年產值4.5億元 首屆「美濃野菜節」7/22登場【客家新聞20230722】 success\n",
      "MoviePy - Writing audio in ./data/mp3/1584.mp3\n"
     ]
    },
    {
     "name": "stderr",
     "output_type": "stream",
     "text": [
      "                                                                      \r"
     ]
    },
    {
     "name": "stdout",
     "output_type": "stream",
     "text": [
      "MoviePy - Done.\n",
      "1584 東專與小農合推食農教育 推廣吃當地當季【客家新聞20230722】 success\n",
      "MoviePy - Writing audio in ./data/mp3/1585.mp3\n"
     ]
    },
    {
     "name": "stderr",
     "output_type": "stream",
     "text": [
      "                                                                      \r"
     ]
    },
    {
     "name": "stdout",
     "output_type": "stream",
     "text": [
      "MoviePy - Done.\n",
      "1585 臺東獨立書店和民間組織 合辦客語廣播營【客家新聞20230720】 success\n",
      "MoviePy - Writing audio in ./data/mp3/1586.mp3\n"
     ]
    },
    {
     "name": "stderr",
     "output_type": "stream",
     "text": [
      "                                                                      \r"
     ]
    },
    {
     "name": "stdout",
     "output_type": "stream",
     "text": [
      "MoviePy - Done.\n",
      "1586 高師大附中「海洋攔阻網」 獲美公益設計獎【客家新聞20230720】 success\n",
      "MoviePy - Writing audio in ./data/mp3/1587.mp3\n"
     ]
    },
    {
     "name": "stderr",
     "output_type": "stream",
     "text": [
      "                                                                      \r"
     ]
    },
    {
     "name": "stdout",
     "output_type": "stream",
     "text": [
      "MoviePy - Done.\n",
      "1587 頭份蜂蜜換新裝 軟管形式擠蜂蜜像擠牙膏【客家新聞20230720】 success\n"
     ]
    }
   ],
   "source": [
    "if not os.path.isdir(target_dir + \"/mp4\"):\n",
    "    os.makedirs(target_dir + \"/mp4\")\n",
    "if not os.path.isdir(target_dir + \"/mp3\"):\n",
    "    os.makedirs(target_dir + \"/mp3\")\n",
    "if not os.path.isdir(target_dir + \"/Description\"):\n",
    "    os.makedirs(target_dir + \"/Description\")\n",
    "\n",
    "\n",
    "traincsv = open(target_dir + \"/train.csv\", \"w\")\n",
    "traincsv.write(\"\\\"file\\\",\\\"Description\\\"\\n\")\n",
    "failfile = open(target_dir + \"/fail.txt\", \"w\")\n",
    "\n",
    "\n",
    "for i in range(len(data)):\n",
    "    if not os.path.isfile(target_dir + \"/description/\" + str(i) + \".mp3\"):\n",
    "        \n",
    "        tag = data[\"ID\"][i]\n",
    "        video_name = re.sub(r'[.\\\\/*?:\"<>|%]', \"\", data[\"Title\"][i])\n",
    "        mp4_path = target_dir + \"/mp4/\" + str(i) + \".mp4\"\n",
    "        mp3_path = target_dir + \"/mp3/\" + str(i) + \".mp3\"\n",
    "        description_path = target_dir + \"/description/\" + str(i) + \".mp3\"\n",
    "        \n",
    "        try:\n",
    "            download_video(tag, target_dir + \"/mp4\")\n",
    "        except:\n",
    "            print(i, data[\"Title\"][i], \"cant downlaod\")\n",
    "            failfile.write(str(i) + \". \" + data[\"Title\"][i] + \" cant downlaod.\\n\")\n",
    "            continue\n",
    "\n",
    "        try:\n",
    "            rename_file(video_name, i)\n",
    "        except:\n",
    "            print(i, data[\"Title\"][i], \"cant rename\")\n",
    "            failfile.write(str(i) + \". \" + data[\"Title\"][i] + \" cant rename.\\n\")\n",
    "            continue\n",
    "\n",
    "        try:\n",
    "            mp4_to_mp3(mp4_path, mp3_path)\n",
    "        except:\n",
    "            print(i, data[\"Title\"][i], \"cant convert\")\n",
    "            failfile.write(str(i) + \". \" + data[\"Title\"][i] + \" cant convert.\\n\")\n",
    "            continue\n",
    "\n",
    "        try:\n",
    "            cut_descriptrion(mp3_path, description_path)\n",
    "        except:\n",
    "            print(i, data[\"Title\"][i], \"cant cut\")\n",
    "            failfile.write(str(i) + \". \" + data[\"Title\"][i] + \" cant cut.\\n\")\n",
    "            continue\n",
    "    \n",
    "    try:\n",
    "        description = re.sub(r'[「」『』()《》.\\\\/*:\"<>|%#\\\\s]', \"\", data[\"Description\"][i])\n",
    "        traincsv.write(\"\\\"\" + str(i) + \".mp3\\\",\\\"\" + description + \"\\\"\\n\")\n",
    "    except:\n",
    "        print(i, data[\"Title\"][i], \"cant write train.txt\")\n",
    "        failfile.write(str(i) + \". \" + data[\"Title\"][i] + \" cant write train.txt.\\n\")\n",
    "        continue\n",
    "\n",
    "    print(i, data[\"Title\"][i], \"success\")\n",
    "\n",
    "traincsv.close()\n",
    "failfile.close()\n",
    "    \n",
    "\n"
   ]
  }
 ],
 "metadata": {
  "kernelspec": {
   "display_name": "venv",
   "language": "python",
   "name": "python3"
  },
  "language_info": {
   "codemirror_mode": {
    "name": "ipython",
    "version": 3
   },
   "file_extension": ".py",
   "mimetype": "text/x-python",
   "name": "python",
   "nbconvert_exporter": "python",
   "pygments_lexer": "ipython3",
   "version": "3.10.11"
  },
  "orig_nbformat": 4
 },
 "nbformat": 4,
 "nbformat_minor": 2
}
