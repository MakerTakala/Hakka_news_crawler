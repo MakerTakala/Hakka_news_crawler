{
 "cells": [
  {
   "cell_type": "code",
   "execution_count": 1,
   "metadata": {},
   "outputs": [],
   "source": [
    "import pandas as pd\n",
    "from pytube import YouTube\n",
    "import pydub\n",
    "import os\n",
    "import re\n",
    "import glob\n",
    "\n",
    "os.environ[\"IMAGEIO_FFMPEG_EXE\"] = \"/opt/homebrew/bin/ffmpeg\"\n",
    "\n",
    "import moviepy.editor as mp\n"
   ]
  },
  {
   "cell_type": "code",
   "execution_count": 2,
   "metadata": {},
   "outputs": [],
   "source": [
    "data = pd.read_csv(\"url.csv\")"
   ]
  },
  {
   "cell_type": "code",
   "execution_count": 3,
   "metadata": {},
   "outputs": [],
   "source": [
    "def download_video(tag, path):\n",
    "    url = \"https://www.youtube.com/watch?v=\" + tag\n",
    "    yt = YouTube(url, use_oauth=True, allow_oauth_cache=True)\n",
    "    yt.streams.filter(file_extension='mp4').first().download(path)\n",
    "\n",
    "    video = yt.streams.filter(only_audio=True).first()\n",
    "    out_file = video.download(output_path=path)\n",
    "\n",
    "\n",
    "def rename_file(name):\n",
    "    os.rename(\"./data/mp4/\" + name + \".mp4\", \"./data/mp4/\" + str(i) + \".mp4\")\n",
    "\n",
    "\n",
    "def mp4_to_mp3(in_path, out_path):\n",
    "    audio = mp.AudioFileClip(in_path)\n",
    "    audio.write_audiofile(out_path)\n",
    "\n",
    "\n",
    "def cut_descriptrion(in_path, out_path):\n",
    "    mp3 = pydub.AudioSegment.from_mp3(in_path)\n",
    "\n",
    "    slice = pydub.silence.split_on_silence(mp3, silence_thresh = -38, min_silence_len = 800, keep_silence = 1000)\n",
    "\n",
    "    for i in range(len(slice)):\n",
    "        if slice[0].duration_seconds <= 15 and slice[0].duration_seconds + slice[i + 1].duration_seconds < 60:\n",
    "            slice[0] = slice[0].append(slice[i + 1])\n",
    "\n",
    "    if slice[0].duration_seconds <= 15 or 60 <= slice[0].duration_seconds:\n",
    "        raise Exception(\"cut fail\")\n",
    "\n",
    "    slice[0].export(out_path, format=\"mp3\")"
   ]
  },
  {
   "cell_type": "code",
   "execution_count": 4,
   "metadata": {},
   "outputs": [
    {
     "name": "stdout",
     "output_type": "stream",
     "text": [
      "MoviePy - Writing audio in ./data/mp3/0.mp3\n"
     ]
    },
    {
     "name": "stderr",
     "output_type": "stream",
     "text": [
      "                                                                      \r"
     ]
    },
    {
     "name": "stdout",
     "output_type": "stream",
     "text": [
      "MoviePy - Done.\n",
      "0 石虎生存危機 光電.生態.國土規畫如何兼顧【客家新聞20230719】 success\n",
      "1 彩虹之國南非吸引移民 經濟蕭條.危機四伏【客家新聞20230719】 cant downlaod\n",
      "MoviePy - Writing audio in ./data/mp3/2.mp3\n"
     ]
    },
    {
     "name": "stderr",
     "output_type": "stream",
     "text": [
      "                                                                      \r"
     ]
    },
    {
     "name": "stdout",
     "output_type": "stream",
     "text": [
      "MoviePy - Done.\n"
     ]
    }
   ],
   "source": [
    "traincsv = open(\"./data/train.csv\", \"w\")\n",
    "traincsv.write(\"\\\"file\\\",\\\"Description\\\"\\n\")\n",
    "failfile = open(\"./data/fail.txt\", \"w\")\n",
    "\n",
    "for i in range(len(data)):\n",
    "    tag = data[\"ID\"][i]\n",
    "    video_name = re.sub(r'[.\\\\/*?:\"<>|%]', \"\", data[\"Title\"][i])\n",
    "    mp4_path = \"./data/mp4/\" + str(i) + \".mp4\"\n",
    "    mp3_path = \"./data/mp3/\" + str(i) + \".mp3\"\n",
    "    description_path = \"./data/description/\" + str(i) + \".mp3\"\n",
    "    \n",
    "    try:\n",
    "        download_video(tag, \"./data/mp4\")\n",
    "    except:\n",
    "        print(i, data[\"Title\"][i], \"cant downlaod\")\n",
    "        failfile.write(str(i) + \". \" + data[\"Title\"][i] + \" cant downlaod.\\n\")\n",
    "        continue\n",
    "\n",
    "    try:\n",
    "        rename_file(video_name)\n",
    "    except:\n",
    "        print(i, data[\"Title\"][i], \"cant rename\")\n",
    "        failfile.write(str(i) + \". \" + data[\"Title\"][i] + \" cant rename.\\n\")\n",
    "        continue\n",
    "\n",
    "    try:\n",
    "        mp4_to_mp3(mp4_path, mp3_path)\n",
    "    except:\n",
    "        print(i, data[\"Title\"][i], \"cant convert\")\n",
    "        failfile.write(str(i) + \". \" + data[\"Title\"][i] + \" cant convert.\\n\")\n",
    "        continue\n",
    "\n",
    "    try:\n",
    "        cut_descriptrion(mp3_path, description_path)\n",
    "    except:\n",
    "        print(i, data[\"Title\"][i], \"cant cut\")\n",
    "        failfile.write(str(i) + \". \" + data[\"Title\"][i] + \" cant cut.\\n\")\n",
    "        continue\n",
    "\n",
    "    try:\n",
    "        description = re.sub(r'[「」『』()《》.\\\\/*:\"<>|%#\\\\s]', \"\", data[\"Description\"][i])\n",
    "        traincsv.write(\"\\\"\" + str(i) + \".mp3\\\",\\\"\" + description + \"\\\"\\n\")\n",
    "    except:\n",
    "        print(i, data[\"Title\"][i], \"cant write train.txt\")\n",
    "        failfile.write(str(i) + \". \" + data[\"Title\"][i] + \" cant write train.txt.\\n\")\n",
    "        continue\n",
    "\n",
    "    print(i, data[\"Title\"][i], \"success\")\n",
    "\n",
    "traincsv.close()\n",
    "failfile.close()\n",
    "    \n",
    "\n"
   ]
  }
 ],
 "metadata": {
  "kernelspec": {
   "display_name": "venv",
   "language": "python",
   "name": "python3"
  },
  "language_info": {
   "codemirror_mode": {
    "name": "ipython",
    "version": 3
   },
   "file_extension": ".py",
   "mimetype": "text/x-python",
   "name": "python",
   "nbconvert_exporter": "python",
   "pygments_lexer": "ipython3",
   "version": "3.10.11"
  },
  "orig_nbformat": 4
 },
 "nbformat": 4,
 "nbformat_minor": 2
}
