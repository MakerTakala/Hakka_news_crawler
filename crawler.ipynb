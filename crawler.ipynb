{
 "cells": [
  {
   "cell_type": "code",
   "execution_count": 1,
   "metadata": {},
   "outputs": [],
   "source": [
    "import numpy as np\n",
    "import pandas as pd\n",
    "from pytube import YouTube\n",
    "import os\n",
    "import re\n",
    "\n",
    "USE_MP4_TO_MP3 = False\n",
    "\n",
    "if USE_MP4_TO_MP3:\n",
    "    import moviepy.editor as mp\n"
   ]
  },
  {
   "cell_type": "code",
   "execution_count": 2,
   "metadata": {},
   "outputs": [],
   "source": [
    "data = pd.read_csv(\"url.csv\")\n"
   ]
  },
  {
   "cell_type": "code",
   "execution_count": 3,
   "metadata": {},
   "outputs": [
    {
     "name": "stdout",
     "output_type": "stream",
     "text": [
      "1 彩虹之國南非吸引移民 經濟蕭條.危機四伏【客家新聞20230719】 cant downlaod\n",
      "33 數位匯流時代 電視式微 客台面臨全新挑戰【客家新聞20230715】 cant downlaod\n",
      "166 生祥樂隊 金曲雙料入圍樂團.裝幀設計獎【客家新聞20230630】 cant downlaod\n",
      "176 新生代歌手邱舒.彭柏邑 唱出客語音樂新勢力【客家新聞20230629】 cant downlaod\n",
      "411 國產紅豆加值運用 農糧署辦烘焙創意競賽【客家新聞20230530】 cant write train.txt\n",
      "512 茂林區公所設便道 致濁口溪分流比例改變【客家新聞20230517】 cant write train.txt\n",
      "1403 年三十看電視 羅文裕.彭佳慧都獻唱客家歌【客家新聞20230122】 cant downlaod\n",
      "1510 買花過新年 臺北花市1/17起連5天不打烊【客家新聞20230111】 cant downlaod\n",
      "1527 「白沙屯媽祖進香」期程出爐 農曆正月出發【客家新聞20230107】 cant downlaod\n",
      "1580 南非工業化程度高 深陷能源危機缺電嚴重【客家新聞20230720】 cant downlaod\n",
      "cant_downlaod:  [1, 33, 166, 176, 1403, 1510, 1527, 1580]\n",
      "cant_rename:  []\n"
     ]
    }
   ],
   "source": [
    "target_path = \"./mp3_data/mp3\"\n",
    "traincsv = open(\"./mp3_data/train.csv\", \"w\")\n",
    "traincsv.write(\"\\\"file\\\",\\\"Description\\\"\\n\")\n",
    "\n",
    "cant_downlaod = []\n",
    "\n",
    "for i in range(len(data)):\n",
    "    url = \"https://www.youtube.com/watch?v=\" + data[\"ID\"][i]\n",
    "\n",
    "    yt = YouTube(url = url, use_oauth=True, allow_oauth_cache=True)\n",
    "\n",
    "\n",
    "    try: \n",
    "        video = yt.streams.filter(only_audio=True).first()\n",
    "        out_file = video.download(output_path=target_path)\n",
    "    except:\n",
    "        print(i, data[\"Title\"][i], \"cant downlaod\")\n",
    "        cant_downlaod.append(i)\n",
    "        continue\n",
    "    \n",
    "    name = re.sub(r'[.\\\\/*?:\"<>|%]', \"\", data[\"Title\"][i])\n",
    "\n",
    "    try:\n",
    "        os.rename(\"./mp3_data/mp3/\" + name + \".mp4\", \"./mp3_data/mp3/\" + str(i) + \".mp4\")\n",
    "    except:\n",
    "        print(i, data[\"Title\"][i], \"cant rename\")\n",
    "        continue\n",
    "\n",
    "    try:\n",
    "        description = re.sub(r'[「」『』()《》.\\\\/*:\"<>|%#\\n]', \"\", data[\"Description\"][i])\n",
    "        traincsv.write(\"\\\"\" + str(i) + \".mp4\\\",\\\"\" + description + \"\\\"\\n\")\n",
    "    except:\n",
    "        print(i, data[\"Title\"][i], \"cant write train.txt\")\n",
    "    \n",
    "    if USE_MP4_TO_MP3:\n",
    "        audio = mp.AudioFileClip(\"./mp3_data/mp3/\" + str(i) + \".mp4\")\n",
    "        audio.write_audiofile(\"./mp3_data/mp3/\" + str(i) + \".mp3\")\n",
    "\n",
    "print(\"cant_downlaod: \", cant_downlaod)\n",
    "\n",
    "traincsv.close()\n",
    "\n"
   ]
  }
 ],
 "metadata": {
  "kernelspec": {
   "display_name": "venv",
   "language": "python",
   "name": "python3"
  },
  "language_info": {
   "codemirror_mode": {
    "name": "ipython",
    "version": 3
   },
   "file_extension": ".py",
   "mimetype": "text/x-python",
   "name": "python",
   "nbconvert_exporter": "python",
   "pygments_lexer": "ipython3",
   "version": "3.10.11"
  },
  "orig_nbformat": 4
 },
 "nbformat": 4,
 "nbformat_minor": 2
}
